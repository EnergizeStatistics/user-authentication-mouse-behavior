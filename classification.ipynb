{
 "cells": [
  {
   "cell_type": "markdown",
   "metadata": {},
   "source": [
    "# User Authentication Based on Mouse Characteristics #"
   ]
  },
  {
   "cell_type": "markdown",
   "metadata": {},
   "source": [
    "## Load Packages ##"
   ]
  },
  {
   "cell_type": "code",
   "execution_count": 1,
   "metadata": {},
   "outputs": [
    {
     "name": "stderr",
     "output_type": "stream",
     "text": [
      "/usr/lib/python3.6/importlib/_bootstrap.py:219: RuntimeWarning: numpy.dtype size changed, may indicate binary incompatibility. Expected 96, got 88\n",
      "  return f(*args, **kwds)\n",
      "/usr/lib/python3.6/importlib/_bootstrap.py:219: RuntimeWarning: numpy.dtype size changed, may indicate binary incompatibility. Expected 96, got 88\n",
      "  return f(*args, **kwds)\n"
     ]
    }
   ],
   "source": [
    "import pandas as pd\n",
    "import numpy as np\n",
    "\n",
    "import os\n",
    "import pickle\n",
    "import copy\n",
    "\n",
    "# preprocessing\n",
    "from sklearn.preprocessing import LabelEncoder, OneHotEncoder\n",
    "\n",
    "# algorithms\n",
    "# from sklearn.ensemble import RandomForestClassifier\n",
    "# from sklearn.linear_model import LogisticRegression\n",
    "from lightgbm import LGBMClassifier\n",
    "# from xgboost import XGBClassifier\n",
    "\n",
    "# optimization\n",
    "from sklearn.model_selection import RandomizedSearchCV\n",
    "\n",
    "# performance\n",
    "from sklearn.metrics import roc_auc_score\n",
    "\n",
    "# random seed \n",
    "np.random.seed(0)"
   ]
  },
  {
   "cell_type": "markdown",
   "metadata": {},
   "source": [
    "## Load Data ##"
   ]
  },
  {
   "cell_type": "code",
   "execution_count": 2,
   "metadata": {},
   "outputs": [],
   "source": [
    "data_dir = '/home/lee/Documents/DatasetsForGitHub/balabit_mouse_dynamics_challenge/'"
   ]
  },
  {
   "cell_type": "code",
   "execution_count": 3,
   "metadata": {},
   "outputs": [],
   "source": [
    "all_train = pd.read_pickle(data_dir + 'all_training_aggregation.pickle')"
   ]
  },
  {
   "cell_type": "code",
   "execution_count": 4,
   "metadata": {},
   "outputs": [],
   "source": [
    "file_paths = []\n",
    "\n",
    "for root, dirs, files in os.walk(data_dir + \"training_files/\"):\n",
    "    for file in files:\n",
    "        file_paths.append(os.path.join(root, file))\n",
    "\n",
    "# randomly pick 66% of all training sessions, use these sessions to train classification models\n",
    "draw_train = np.random.randint(low=0, high=len(file_paths), size=np.floor(len(file_paths)*0.66).astype('int'))\n",
    "train_users = list(map(lambda x: x.split(os.path.sep)[-2], [file_paths[y] for y in draw_train]))\n",
    "train_sessions = list(map(lambda x: x.split(os.path.sep)[-1], [file_paths[y] for y in draw_train]))\n",
    "df_train = all_train[all_train['user'].isin(train_users) & all_train['session'].isin(train_sessions)]\n",
    "\n",
    "# the rest of the sessions are validation data\n",
    "draw_val = list(set(range(len(file_paths))) - set(draw_train))\n",
    "val_users = list(map(lambda x: x.split(os.path.sep)[-2], [file_paths[y] for y in draw_val]))\n",
    "val_sessions = list(map(lambda x: x.split(os.path.sep)[-1], [file_paths[y] for y in draw_val]))\n",
    "df_val = all_train[all_train['user'].isin(val_users) & all_train['session'].isin(val_sessions)]"
   ]
  },
  {
   "cell_type": "markdown",
   "metadata": {},
   "source": [
    "## Process Data ##"
   ]
  },
  {
   "cell_type": "code",
   "execution_count": 5,
   "metadata": {},
   "outputs": [],
   "source": [
    "le_user = LabelEncoder()\n",
    "le_categ = LabelEncoder()\n",
    "\n",
    "oh_user = OneHotEncoder()\n",
    "oh_categ = OneHotEncoder()"
   ]
  },
  {
   "cell_type": "code",
   "execution_count": 6,
   "metadata": {},
   "outputs": [
    {
     "name": "stderr",
     "output_type": "stream",
     "text": [
      "/home/lee/.local/lib/python3.6/site-packages/ipykernel_launcher.py:4: SettingWithCopyWarning: \n",
      "A value is trying to be set on a copy of a slice from a DataFrame.\n",
      "Try using .loc[row_indexer,col_indexer] = value instead\n",
      "\n",
      "See the caveats in the documentation: http://pandas.pydata.org/pandas-docs/stable/indexing.html#indexing-view-versus-copy\n",
      "  after removing the cwd from sys.path.\n",
      "/home/lee/.local/lib/python3.6/site-packages/pandas/core/frame.py:3140: SettingWithCopyWarning: \n",
      "A value is trying to be set on a copy of a slice from a DataFrame.\n",
      "Try using .loc[row_indexer,col_indexer] = value instead\n",
      "\n",
      "See the caveats in the documentation: http://pandas.pydata.org/pandas-docs/stable/indexing.html#indexing-view-versus-copy\n",
      "  self[k1] = value[k2]\n"
     ]
    }
   ],
   "source": [
    "y_train = le_user.fit_transform(df_train['user'])\n",
    "\n",
    "# label encode\n",
    "df_train['categ_le'] = le_categ.fit_transform(df_train['categ_agg'])\n",
    "\n",
    "# one-hot encode\n",
    "vec_size = df_train['categ_agg'].nunique()\n",
    "df_train[['oh_categ{}'.format(i) \\\n",
    "          for i in range(vec_size)]] = \\\n",
    "        pd.DataFrame(oh_categ.fit_transform(\\\n",
    "                df_train['categ_le'].values.reshape(len(df_train['categ_le']), 1)).todense(), \\\n",
    "             index=df_train.index)\n",
    "\n",
    "X_train = df_train.drop(['categ_agg', 'session', 'categ_le', 'user'], axis=1)"
   ]
  },
  {
   "cell_type": "code",
   "execution_count": 7,
   "metadata": {},
   "outputs": [
    {
     "name": "stderr",
     "output_type": "stream",
     "text": [
      "/home/lee/.local/lib/python3.6/site-packages/ipykernel_launcher.py:4: SettingWithCopyWarning: \n",
      "A value is trying to be set on a copy of a slice from a DataFrame.\n",
      "Try using .loc[row_indexer,col_indexer] = value instead\n",
      "\n",
      "See the caveats in the documentation: http://pandas.pydata.org/pandas-docs/stable/indexing.html#indexing-view-versus-copy\n",
      "  after removing the cwd from sys.path.\n",
      "/home/lee/.local/lib/python3.6/site-packages/pandas/core/frame.py:3140: SettingWithCopyWarning: \n",
      "A value is trying to be set on a copy of a slice from a DataFrame.\n",
      "Try using .loc[row_indexer,col_indexer] = value instead\n",
      "\n",
      "See the caveats in the documentation: http://pandas.pydata.org/pandas-docs/stable/indexing.html#indexing-view-versus-copy\n",
      "  self[k1] = value[k2]\n"
     ]
    }
   ],
   "source": [
    "y_val = le_user.transform(df_val['user'])\n",
    "\n",
    "# label encode\n",
    "df_val['categ_le'] = le_categ.transform(df_val['categ_agg'])\n",
    "\n",
    "# one-hot encode\n",
    "df_val[['oh_categ{}'.format(i) \\\n",
    "          for i in range(vec_size)]] = \\\n",
    "        pd.DataFrame(oh_categ.transform(\\\n",
    "                df_val['categ_le'].values.reshape(len(df_val['categ_le']), 1)).todense(), \\\n",
    "             index=df_val.index)\n",
    "\n",
    "X_val = df_val.drop(['categ_agg', 'session', 'categ_le', 'user'], axis=1)"
   ]
  },
  {
   "cell_type": "markdown",
   "metadata": {},
   "source": [
    "## Fit Models ##"
   ]
  },
  {
   "cell_type": "markdown",
   "metadata": {},
   "source": [
    "Define a few classification models. "
   ]
  },
  {
   "cell_type": "code",
   "execution_count": 8,
   "metadata": {},
   "outputs": [],
   "source": [
    "clf_lgb = LGBMClassifier(random_state=0)\n",
    "# clf_xgb = XGBClassifier(random_state=0)\n",
    "# clf_rf = RandomForestClassifier(random_state=0)\n",
    "# clf_lr = LogisticRegression(random_state=0)"
   ]
  },
  {
   "cell_type": "markdown",
   "metadata": {},
   "source": [
    "For a given user in the training sessions, label their mouse actions as legal (`is_illegal`=0). All the other users' mouse actions are labeled illegal (`is_illegal`=1). Loop over all users. "
   ]
  },
  {
   "cell_type": "code",
   "execution_count": 9,
   "metadata": {},
   "outputs": [
    {
     "name": "stdout",
     "output_type": "stream",
     "text": [
      "ROC AUC in training data for user12: 0.9014\n",
      "ROC AUC in training data for user15: 0.9653\n",
      "ROC AUC in training data for user16: 0.871\n",
      "ROC AUC in training data for user20: 0.9884\n",
      "ROC AUC in training data for user21: 0.9131\n",
      "ROC AUC in training data for user23: 0.8894\n",
      "ROC AUC in training data for user29: 0.9166\n",
      "ROC AUC in training data for user35: 0.8926\n",
      "ROC AUC in training data for user7: 0.9868\n",
      "ROC AUC in training data for user9: 0.9959\n"
     ]
    }
   ],
   "source": [
    "for user in le_user.classes_:\n",
    "    df = df_train.copy()\n",
    "    df['is_illegal'] = 0\n",
    "    # 1 = illegal session, 0 = legal session \n",
    "    df.loc[df['user'] != user, 'is_illegal'] = 1\n",
    "    X = df.drop(['categ_agg', 'session', 'categ_le', 'user', 'is_illegal'], axis=1)\n",
    "    y = df['is_illegal']\n",
    "\n",
    "    exec('clf_lgb_' + user + \" = LGBMClassifier(random_state=0)\")\n",
    "    exec('clf_lgb_' + user + \".fit(X, y)\")\n",
    "    \n",
    "    auc = eval('roc_auc_score(y, clf_lgb_' + user + \".predict_proba(X)[:, 1])\")\n",
    "\n",
    "    print(\"ROC AUC in training data for {0}: {1:0.4}\".format(user, auc))\n",
    "    \n",
    "    del df, X, y"
   ]
  },
  {
   "cell_type": "code",
   "execution_count": 10,
   "metadata": {},
   "outputs": [
    {
     "name": "stdout",
     "output_type": "stream",
     "text": [
      "ROC AUC in validation data for user12: 0.784\n",
      "ROC AUC in validation data for user15: 0.769\n",
      "ROC AUC in validation data for user16: 0.7294\n",
      "ROC AUC in validation data for user20: 0.6121\n",
      "ROC AUC in validation data for user21: 0.7616\n",
      "ROC AUC in validation data for user23: 0.7258\n",
      "ROC AUC in validation data for user29: 0.7612\n",
      "ROC AUC in validation data for user35: 0.7348\n",
      "ROC AUC in validation data for user7: 0.9869\n",
      "ROC AUC in validation data for user9: 0.9909\n"
     ]
    }
   ],
   "source": [
    "for user in le_user.classes_:\n",
    "    df = df_val.copy()\n",
    "    df['is_illegal'] = 0\n",
    "    # 1 = illegal session, 0 = legal session \n",
    "    df.loc[df['user'] != user, 'is_illegal'] = 1\n",
    "    X = df.drop(['categ_agg', 'session', 'categ_le', 'user', 'is_illegal'], axis=1)\n",
    "    y = df['is_illegal']\n",
    "\n",
    "    auc = eval('roc_auc_score(y, clf_lgb_' + user + \".predict_proba(X)[:, 1])\")\n",
    "\n",
    "    print(\"ROC AUC in validation data for {0}: {1:0.4}\".format(user, auc))\n",
    "    \n",
    "    del df, X, y"
   ]
  },
  {
   "cell_type": "markdown",
   "metadata": {},
   "source": [
    "For users other than 7 and 9 we seem to have overfit to training data. Now use cross-validation to correct overfitting."
   ]
  },
  {
   "cell_type": "code",
   "execution_count": 11,
   "metadata": {},
   "outputs": [],
   "source": [
    "# candidate hyperparameters\n",
    "gridParams = {\n",
    "    'num_leaves': [6, 8, 12, 16, 24],\n",
    "    'min_data_in_leaf': [24, 32, 40], \n",
    "    'max_bin': [32, 64, 128],\n",
    "    'max_depth': [8, 16, 32]\n",
    "    }"
   ]
  },
  {
   "cell_type": "code",
   "execution_count": 12,
   "metadata": {},
   "outputs": [
    {
     "name": "stdout",
     "output_type": "stream",
     "text": [
      "ROC AUC for user12: 0.8313\n",
      "Finished loading model, total used 100 iterations\n",
      "ROC AUC for user15: 0.8676\n",
      "Finished loading model, total used 100 iterations\n",
      "ROC AUC for user16: 0.7991\n",
      "Finished loading model, total used 100 iterations\n",
      "ROC AUC for user20: 0.8384\n",
      "Finished loading model, total used 100 iterations\n",
      "ROC AUC for user21: 0.8466\n",
      "Finished loading model, total used 100 iterations\n",
      "ROC AUC for user23: 0.8222\n",
      "Finished loading model, total used 100 iterations\n",
      "ROC AUC for user29: 0.8481\n",
      "Finished loading model, total used 100 iterations\n",
      "ROC AUC for user35: 0.8279\n",
      "Finished loading model, total used 100 iterations\n",
      "ROC AUC for user7: 0.9829\n",
      "Finished loading model, total used 100 iterations\n",
      "ROC AUC for user9: 0.9943\n",
      "Finished loading model, total used 100 iterations\n"
     ]
    }
   ],
   "source": [
    "for user in le_user.classes_:\n",
    "    df = all_train.copy()\n",
    "\n",
    "    # encode\n",
    "    df['categ_le'] = le_categ.transform(df['categ_agg'])\n",
    "\n",
    "    df[['oh_categ{}'.format(i) \\\n",
    "              for i in range(vec_size)]] = \\\n",
    "            pd.DataFrame(oh_categ.transform(\\\n",
    "                    df['categ_le'].values.reshape(len(df['categ_le']), 1)).todense(), \\\n",
    "                 index=df.index)\n",
    "    \n",
    "    # define target label\n",
    "    df['is_illegal'] = 0\n",
    "\n",
    "    df.loc[df['user'] != user, 'is_illegal'] = 1\n",
    "    X = df.drop(['categ_agg', 'session', 'categ_le', 'user', 'is_illegal'], axis=1)\n",
    "    y = df['is_illegal']\n",
    "    \n",
    "    # randomized grid search\n",
    "    clf_lgb = LGBMClassifier(random_state=0)\n",
    "\n",
    "    random_search = RandomizedSearchCV(clf_lgb, scoring='roc_auc', param_distributions=gridParams)\n",
    "    random_search.fit(X, y)\n",
    "\n",
    "    # best hyperparameters\n",
    "    params = dict()    \n",
    "    params['num_leaves'] = random_search.best_params_['num_leaves']\n",
    "    params['min_data_in_leaf'] = random_search.best_params_['min_data_in_leaf']\n",
    "    params['max_bin'] = random_search.best_params_['max_bin']\n",
    "    params['max_depth'] = random_search.best_params_['max_depth']\n",
    "\n",
    "    # re-fit models\n",
    "    clf_lgb = LGBMClassifier(random_state=0, **params)\n",
    "    clf_lgb.fit(X, y)\n",
    "    \n",
    "    # AUC score\n",
    "    auc = roc_auc_score(y, clf_lgb.predict_proba(X)[:, 1])\n",
    "    print(\"ROC AUC for {0}: {1:0.4}\".format(user, auc))\n",
    "\n",
    "    # save models for each user\n",
    "    exec('clf_lgb_' + user + \" = copy.deepcopy(clf_lgb)\")\n",
    "    \n",
    "    del df, X, y, random_search, clf_lgb, auc"
   ]
  },
  {
   "cell_type": "markdown",
   "metadata": {},
   "source": [
    "## Apply to Test Data ##"
   ]
  },
  {
   "cell_type": "markdown",
   "metadata": {},
   "source": [
    "Owner of the challenge dataset did not release the true labels of their entire test set, only the subset that was used to calculate the public leaderboard score. I use this subset to calculate my public leaderboard score. "
   ]
  },
  {
   "cell_type": "code",
   "execution_count": 13,
   "metadata": {},
   "outputs": [
    {
     "name": "stderr",
     "output_type": "stream",
     "text": [
      "/home/lee/.local/lib/python3.6/site-packages/ipykernel_launcher.py:8: SettingWithCopyWarning: \n",
      "A value is trying to be set on a copy of a slice from a DataFrame.\n",
      "Try using .loc[row_indexer,col_indexer] = value instead\n",
      "\n",
      "See the caveats in the documentation: http://pandas.pydata.org/pandas-docs/stable/indexing.html#indexing-view-versus-copy\n",
      "  \n",
      "/home/lee/.local/lib/python3.6/site-packages/pandas/core/frame.py:3140: SettingWithCopyWarning: \n",
      "A value is trying to be set on a copy of a slice from a DataFrame.\n",
      "Try using .loc[row_indexer,col_indexer] = value instead\n",
      "\n",
      "See the caveats in the documentation: http://pandas.pydata.org/pandas-docs/stable/indexing.html#indexing-view-versus-copy\n",
      "  self[k1] = value[k2]\n"
     ]
    }
   ],
   "source": [
    "# all test data\n",
    "all_test = pd.read_pickle(data_dir + 'all_testing_aggregation.pickle')\n",
    "\n",
    "# public leaderboard subset\n",
    "public_test_labels = pd.read_csv(data_dir + 'public_labels.csv')\n",
    "public_test = all_test[all_test['session'].isin(public_test_labels['filename'])]\n",
    "\n",
    "public_test['categ_le'] = le_categ.fit_transform(public_test['categ_agg'])\n",
    "vec_size = public_test['categ_agg'].nunique()\n",
    "public_test[['oh_categ{}'.format(i) for i in range(vec_size)]] = \\\n",
    "        pd.DataFrame(oh_categ.fit_transform(\\\n",
    "        public_test['categ_le'].values.reshape(len(public_test['categ_le']), 1)).todense(), index=public_test.index)"
   ]
  },
  {
   "cell_type": "markdown",
   "metadata": {},
   "source": [
    "The submission requirement for the challenge was that each test mouse session has an anomaly score between 0 and 1 that tells how unlikely the remote session was carried out by the respective user account, i.e., a measure of `is_illegal`=1. My classification model gives a predicted probability of `is_illegal`=1 for each mouse action in a given session; then the anomaly score of the session is the mean of the predicted probability of all its actions. "
   ]
  },
  {
   "cell_type": "code",
   "execution_count": 14,
   "metadata": {},
   "outputs": [],
   "source": [
    "session_proba = dict()\n",
    "\n",
    "for session in public_test['session'].unique():\n",
    "    user_test = public_test.loc[public_test['session'] == session, 'user'].unique()[0]\n",
    "    data_test = public_test[(public_test['session'] == session)]\\\n",
    "                .drop(['categ_agg', 'session', 'categ_le', 'user'], axis=1)\n",
    "    \n",
    "    proba = eval('clf_lgb_' + user_test + \".predict_proba(data_test)[:, 1]\")\n",
    "    session_proba[session] = np.mean(proba)"
   ]
  },
  {
   "cell_type": "markdown",
   "metadata": {},
   "source": [
    "Now calculate final public score. "
   ]
  },
  {
   "cell_type": "code",
   "execution_count": 15,
   "metadata": {},
   "outputs": [
    {
     "name": "stdout",
     "output_type": "stream",
     "text": [
      "Final ROC AUC (public score): 0.9075\n"
     ]
    }
   ],
   "source": [
    "results = pd.DataFrame.from_dict(session_proba, orient='index', columns=['pred_proba'])\n",
    "public_test_labels.set_index('filename', inplace=True)\n",
    "compare_to_label = public_test_labels.join(results, sort=False)\n",
    "print('Final ROC AUC (public score): {0:0.4}'.format(roc_auc_score(compare_to_label['is_illegal'], compare_to_label['pred_proba'], average='macro')))"
   ]
  },
  {
   "cell_type": "code",
   "execution_count": null,
   "metadata": {},
   "outputs": [],
   "source": []
  }
 ],
 "metadata": {
  "kernelspec": {
   "display_name": "Python 3",
   "language": "python",
   "name": "python3"
  },
  "language_info": {
   "codemirror_mode": {
    "name": "ipython",
    "version": 3
   },
   "file_extension": ".py",
   "mimetype": "text/x-python",
   "name": "python",
   "nbconvert_exporter": "python",
   "pygments_lexer": "ipython3",
   "version": "3.6.5"
  }
 },
 "nbformat": 4,
 "nbformat_minor": 2
}
